{
  "nbformat": 4,
  "nbformat_minor": 0,
  "metadata": {
    "colab": {
      "provenance": [],
      "authorship_tag": "ABX9TyM/g5n70JOOuZItTAMG7UI1"
    },
    "kernelspec": {
      "name": "python3",
      "display_name": "Python 3"
    },
    "language_info": {
      "name": "python"
    }
  },
  "cells": [
    {
      "cell_type": "markdown",
      "source": [
        "# Лабораторная работа №2"
      ],
      "metadata": {
        "id": "VBTe1T_ys9El"
      }
    },
    {
      "cell_type": "markdown",
      "source": [
        "**Задание выполнил Артамонов Кирилл, гр. Б01-007.**"
      ],
      "metadata": {
        "id": "cZYIoh3Js3Vw"
      }
    },
    {
      "cell_type": "markdown",
      "source": [
        "Импортируем библиотеки:"
      ],
      "metadata": {
        "id": "n7JXiqDuv-9b"
      }
    },
    {
      "cell_type": "code",
      "execution_count": 1,
      "metadata": {
        "id": "17nV1hFprcGh"
      },
      "outputs": [],
      "source": [
        "import numpy as np\n",
        "import matplotlib.pyplot as plt"
      ]
    },
    {
      "cell_type": "markdown",
      "source": [
        "\n",
        "Зададим систему **(пункт У)** Ax = f :"
      ],
      "metadata": {
        "id": "_7mZo75qLimO"
      }
    },
    {
      "cell_type": "code",
      "source": [
        "n = 12 # matrix size\n",
        "EPSILON = 1e-15 # Accuracy\n",
        "\n",
        "matrixA = np.zeros((n, n))\n",
        "\n",
        "for i in range(0, n):\n",
        "    for j in range(0, n):\n",
        "        if i == j:\n",
        "            matrixA[i][j] = 1\n",
        "        else:\n",
        "            matrixA[i][j] = 1 / ((i+1)*(i+1) + j + 1)\n",
        "\n",
        "vectorF = np.array([1 / (i + 1) for i in range(0, n)])\n"
      ],
      "metadata": {
        "id": "9NWB-wcbMB8F"
      },
      "execution_count": 28,
      "outputs": []
    },
    {
      "cell_type": "code",
      "source": [
        "def getDiscrepancy(mat, x, F):\n",
        "    return np.linalg.norm(F - np.matmul(mat, x))\n",
        "\n",
        "def getMaxEigenvalue(mat):\n",
        "    v1 = np.array(np.random.rand(n))\n",
        "    v2 = np.matmul(mat, v1)\n",
        "    while getDiscrepancy(mat, v1, v2) > EPSILON:\n",
        "        v2 = np.matmul(mat, v1)\n",
        "    eigMax = np.linalg.norm(np.matmul(mat, v1)) / np.linalg.norm(v1)\n",
        "    return eigMax\n",
        "\n",
        "def getEigenvalues(mat):\n",
        "    return 1 / getMaxEigenvalue(np.linalg.inv(mat)), getMaxEigenvalue(mat)\n",
        "\n",
        "def getConditionNumber(mat):\n",
        "    eigMin, eigMax = getEigenvalues(mat)\n",
        "    return np.abs(eigMax / eigMin)"
      ],
      "metadata": {
        "id": "ABbz7kCwPx9O"
      },
      "execution_count": 29,
      "outputs": []
    },
    {
      "cell_type": "markdown",
      "source": [
        "**LU**-разложение"
      ],
      "metadata": {
        "id": "4pySmBsAPwWq"
      }
    },
    {
      "cell_type": "code",
      "source": [
        "def checkLU(A):\n",
        "    for i in range(0, n):\n",
        "        mat_i = np.array([lines[0: i + 1] for lines in A[0: i + 1]])\n",
        "        if not np.linalg.det(mat_i):\n",
        "            return False\n",
        "    return True\n",
        "\n",
        "def decomposeLU(A):\n",
        "    L = np.zeros((n, n))\n",
        "    U = np.zeros((n, n))\n",
        "\n",
        "    for i in range(0, n):\n",
        "        L[i][i] = 1\n",
        "\n",
        "    for i in range(0, n):\n",
        "        for j in range(0, n):\n",
        "            sum = 0\n",
        "            if i <= j:\n",
        "                for k in range(0, i):\n",
        "                    sum += L[i][k] * U[k][j]\n",
        "                U[i][j] = A[i][j] - sum\n",
        "            if i > j:\n",
        "                for k in range(0, j):\n",
        "                    sum += L[i][k] * U[k][j]\n",
        "                L[i][j] = (A[i][j] - sum) / U[j][j]\n",
        "\n",
        "    return L, U\n",
        "\n",
        "def _selectElement(A, F, j, range): #service function for Gauss method\n",
        "    for i in range:\n",
        "        if A[i][j] > A[j][j]:\n",
        "            A[i], A[j] = A[j], A[i]\n",
        "            F[i], F[j] = F[j], F[i]\n",
        "\n",
        "def _runGauss(A, F, j, range): #service function for Gauss method\n",
        "    for i in range:\n",
        "        F[i] -= F[j] * (A[i][j] / A[j][j])\n",
        "        A[i] -= A[j] * (A[i][j] / A[j][j])\n",
        "    F[j] /= A[j][j]\n",
        "    A[j] /= A[j][j]\n",
        "\n",
        "def _directCourse(A, F):\n",
        "    for j in range(0, n):\n",
        "        _selectElement(A, F, j, range(j + 1, n))\n",
        "        _runGauss(A, F, j, range(j + 1, n))\n",
        "\n",
        "def _reverseCourse(A, F):\n",
        "    for j in reversed(range(0, n)):\n",
        "        _selectElement(A, F, j, reversed(range(0, j)))\n",
        "        _runGauss(A, F, j, reversed(range(0, j)))\n",
        "\n",
        "def GaussMethod(A, F):\n",
        "    copyA = A.copy()\n",
        "    copyF = F.copy()\n",
        "\n",
        "    _directCourse(copyA, copyF)\n",
        "    _reverseCourse(copyA, copyF)\n",
        "    return copyF\n",
        "\n",
        "def LUMethod(A, F):\n",
        "    if not checkLU(A):\n",
        "        return GaussMethod(A, F)\n",
        "\n",
        "    copyF = F.copy()\n",
        "    L, U = decomposeLU(A)\n",
        "    _directCourse(L, copyF)\n",
        "    _reverseCourse(U, copyF)    \n",
        "    return copyF\n"
      ],
      "metadata": {
        "id": "GePGY79XXwXZ"
      },
      "execution_count": 30,
      "outputs": []
    },
    {
      "cell_type": "markdown",
      "source": [
        "Метод верхней релаксации:"
      ],
      "metadata": {
        "id": "fj_Ba6qGY61h"
      }
    },
    {
      "cell_type": "code",
      "source": [
        "omega = 1.5\n",
        "\n",
        "def UpperRelaxationMethod(A, F):\n",
        "    copyA = A.copy()\n",
        "    copyF = F.copy()\n",
        "\n",
        "    L = np.zeros((n, n))\n",
        "    D = np.zeros((n, n))\n",
        "    U = np.zeros((n, n))\n",
        "\n",
        "    for i in range(0, n):\n",
        "        D[i][i] = A[i][i]\n",
        "        for j in range(i + 1, n):\n",
        "            U[i][j] = A[i][j]\n",
        "            L[j][i] = A[j][i]\n",
        "\n",
        "    inv = np.linalg.inv(D + omega * L)\n",
        "    B = - np.matmul(inv, (omega - 1) * D + omega * U)\n",
        "    f = np.matmul(omega * inv, F)\n",
        "\n",
        "    x = np.array(np.random.rand(n))\n",
        "\n",
        "    while getDiscrepancy(copyA, x, copyF) > EPSILON:\n",
        "        x = np.matmul(B, x) + f\n",
        "\n",
        "    return x"
      ],
      "metadata": {
        "id": "abce9Z3IeKzm"
      },
      "execution_count": 31,
      "outputs": []
    },
    {
      "cell_type": "markdown",
      "source": [
        "Результаты:"
      ],
      "metadata": {
        "id": "MVOwoMK-n_MI"
      }
    },
    {
      "cell_type": "code",
      "source": [
        "eigMin, eigMax = getEigenvalues(matrixA)\n",
        "print(\"min|λ(A)| =\", eigMin)\n",
        "print(\"max|λ(A)| =\", eigMax)\n",
        "print(\"Число обусловленности:\", getConditionNumber(matrixA))\n",
        "print(\"Критерий останова: |Ax - f| < ε =\", EPSILON)\n",
        "print('\\n=======================================================================\\n')\n",
        "print(\"Метод LU-разложения:\\n\")\n",
        "x = LUMethod(matrixA, vectorF)\n",
        "print(\"Корень системы:\\n\", x)\n",
        "print(\"Невязка метода: \", getDiscrepancy(matrixA, x, vectorF))\n",
        "print('\\n=======================================================================\\n')\n",
        "print(\"Метод верхней релаксации:\\n\")\n",
        "y = UpperRelaxationMethod(matrixA, vectorF)\n",
        "print(\"Корень системы:\\n\", y)\n",
        "print(\"Невязка метода: \", getDiscrepancy(matrixA, y, vectorF))\n",
        "print('\\n=======================================================================\\n')"
      ],
      "metadata": {
        "colab": {
          "base_uri": "https://localhost:8080/"
        },
        "id": "592B9ofiraAu",
        "outputId": "bb7a2098-909e-42e0-efe9-d414ddd853fd"
      },
      "execution_count": 33,
      "outputs": [
        {
          "output_type": "stream",
          "name": "stdout",
          "text": [
            "min|λ(A)| = 1.172658512931444\n",
            "max|λ(A)| = 1.4136857502390958\n",
            "Число обусловленности: 1.206497263530192\n",
            "Критерий останова: |Ax - f| < ε = 1e-15\n",
            "\n",
            "=======================================================================\n",
            "\n",
            "Метод LU-разложения:\n",
            "\n",
            "Корень системы:\n",
            " [0.75537042 0.23879963 0.17890325 0.15086988 0.13170938 0.1170332\n",
            " 0.10527117 0.09560544 0.08752166 0.08066593 0.074783   0.06968322]\n",
            "Невязка метода:  2.443436683771534e-16\n",
            "\n",
            "=======================================================================\n",
            "\n",
            "Метод верхней релаксации:\n",
            "\n",
            "Корень системы:\n",
            " [0.75537042 0.23879963 0.17890325 0.15086988 0.13170938 0.1170332\n",
            " 0.10527117 0.09560544 0.08752166 0.08066593 0.074783   0.06968322]\n",
            "Невязка метода:  5.825365706983819e-16\n",
            "\n",
            "=======================================================================\n",
            "\n"
          ]
        }
      ]
    }
  ]
}