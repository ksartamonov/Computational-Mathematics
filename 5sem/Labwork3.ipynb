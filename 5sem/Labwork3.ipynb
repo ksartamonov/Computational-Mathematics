{
  "nbformat": 4,
  "nbformat_minor": 0,
  "metadata": {
    "colab": {
      "provenance": [],
      "authorship_tag": "ABX9TyPaYkZov92CKLc2tEetus2i"
    },
    "kernelspec": {
      "name": "python3",
      "display_name": "Python 3"
    },
    "language_info": {
      "name": "python"
    }
  },
  "cells": [
    {
      "cell_type": "markdown",
      "source": [
        "**Задание выполнил Артамонов Кирилл, гр. Б01-007.**"
      ],
      "metadata": {
        "id": "a9oy9G4xFfxt"
      }
    },
    {
      "cell_type": "code",
      "source": [
        "import numpy as np\n",
        "import math\n",
        "\n",
        "eps = 1e-9"
      ],
      "metadata": {
        "id": "pXEc9O0dNeLo"
      },
      "execution_count": 11,
      "outputs": []
    },
    {
      "cell_type": "markdown",
      "source": [
        "# **1.** Решим нелинейное уравнение **12.4(з)**: "
      ],
      "metadata": {
        "id": "XRg6yqY5FuXj"
      }
    },
    {
      "cell_type": "markdown",
      "source": [
        "$2lg(x) - {x\\over2} + 1 = 0$"
      ],
      "metadata": {
        "id": "OkQhdbgfGVWz"
      }
    },
    {
      "cell_type": "markdown",
      "source": [
        "Локализуем корни:\n",
        "\n",
        "1 корень: $x_1 \\in [0;1]$\n",
        "2 корень: $x_2 \\in [4;5]$"
      ],
      "metadata": {
        "id": "-06xpOx8HAMF"
      }
    },
    {
      "cell_type": "markdown",
      "source": [],
      "metadata": {
        "id": "QmrALju6MECJ"
      }
    },
    {
      "cell_type": "markdown",
      "source": [
        "Для нахождения первого корня $x_1 \\in [0;1]$ используем следующий метод простой итерации:"
      ],
      "metadata": {
        "id": "maluoPEjH22m"
      }
    },
    {
      "cell_type": "markdown",
      "source": [
        "$f_1 = x_{k+1} = 10^{(x-2) \\over 4} $"
      ],
      "metadata": {
        "id": "6QcHlBGXI_uF"
      }
    },
    {
      "cell_type": "markdown",
      "source": [
        "Он сходится: $|f'_1| = \\ln(10) \\cdot 5^{(x-2)\\over 4} \\cdot 2^{(x-10) \\over 4} < 1$"
      ],
      "metadata": {
        "id": "1vi5nbO2JMsG"
      }
    },
    {
      "cell_type": "markdown",
      "source": [
        "Для нахождения второго корня $x_2 \\in [4;5]$ используем следующий метод простой итерации: "
      ],
      "metadata": {
        "id": "Rpj-jzp0KhjI"
      }
    },
    {
      "cell_type": "markdown",
      "source": [
        "$f_2 = x_{k+1} = 4\\lg(x) + 1$"
      ],
      "metadata": {
        "id": "CsU4I9XsLOBc"
      }
    },
    {
      "cell_type": "markdown",
      "source": [
        "Он сходится: $|f'_2| = |{4 \\over {\\ln(10)x}}| < {1 \\over \\ln(10)} \\approx 0.43 < 1$"
      ],
      "metadata": {
        "id": "K8_5tMHuLh2P"
      }
    },
    {
      "cell_type": "code",
      "source": [
        "def _sIM1Func(x):\n",
        "    return 10 ** ((x - 2)/4)\n",
        "def _sIM2Func(x):\n",
        "    return 4 * math.log10(x) + 2"
      ],
      "metadata": {
        "id": "oHF5MnlYNcEi"
      },
      "execution_count": 12,
      "outputs": []
    },
    {
      "cell_type": "markdown",
      "source": [
        "Метод простой итерации:"
      ],
      "metadata": {
        "id": "aHOFQTWLN6xc"
      }
    },
    {
      "cell_type": "code",
      "source": [
        "def simpleIterationMethod(x, func):\n",
        "    while np.abs(x - func(x)) > eps:\n",
        "        x = func(x)\n",
        "    return x"
      ],
      "metadata": {
        "id": "i_9wfIcuN-BJ"
      },
      "execution_count": 13,
      "outputs": []
    },
    {
      "cell_type": "markdown",
      "source": [
        "Ответ:"
      ],
      "metadata": {
        "id": "bbkEkbXzOMVG"
      }
    },
    {
      "cell_type": "code",
      "source": [
        "print(\"Метод простой итерации:\")\n",
        "print(\"x1 = \", simpleIterationMethod(0.5, _sIM1Func))\n",
        "print(\"x2 = \", simpleIterationMethod(4.75, _sIM2Func))\n",
        "print(\"Невязка: \", eps)"
      ],
      "metadata": {
        "colab": {
          "base_uri": "https://localhost:8080/"
        },
        "id": "GjsU5PAnOLw9",
        "outputId": "714be832-4c60-49a7-eb4e-eb69f7db07e4"
      },
      "execution_count": 14,
      "outputs": [
        {
          "output_type": "stream",
          "name": "stdout",
          "text": [
            "Метод простой итерации:\n",
            "x1 =  0.3975449463473034\n",
            "x2 =  4.681563777632969\n",
            "Невязка:  1e-09\n"
          ]
        }
      ]
    },
    {
      "cell_type": "markdown",
      "source": [
        "# **2.** Решим систему **12.5(в)**"
      ],
      "metadata": {
        "id": "zeVFqclfMI3n"
      }
    },
    {
      "cell_type": "markdown",
      "source": [
        "\\begin{equation}\n",
        "    \\begin{cases}\n",
        "      \\cos(x-1) + y = 0.5\\\\\n",
        "      x - \\cos y = 3\\\\\n",
        "    \\end{cases}\\\n",
        "\\end{equation}"
      ],
      "metadata": {
        "id": "R4JkPmljMhHF"
      }
    },
    {
      "cell_type": "markdown",
      "source": [
        "Область локализации: \n",
        "$x \\in [3 ; 3.5]$\n",
        "$y \\in [1 ; 1.5]$"
      ],
      "metadata": {
        "id": "iW32EPR8M9Ef"
      }
    },
    {
      "cell_type": "markdown",
      "source": [
        "Задаем систему:"
      ],
      "metadata": {
        "id": "zth8rSf1NVH6"
      }
    },
    {
      "cell_type": "code",
      "source": [
        "def S(x):\n",
        "    system = list()\n",
        "    system.append(np.cos(x[0] - 1) + x[1] - 0.5)\n",
        "    system.append(x[0] - np.cos(x[1]) - 3)\n",
        "    return system\n",
        "\n",
        "def J(x):\n",
        "    jacobian = np.zeros((2, 2))\n",
        "    jacobian[0][0] = -np.sin(x[0] - 1)\n",
        "    jacobian[0][1] = 1\n",
        "    jacobian[1][0] = 1\n",
        "    jacobian[1][1] = np.sin(x[1])\n",
        "    return jacobian\n"
      ],
      "metadata": {
        "id": "f2ABjKiuHNSg"
      },
      "execution_count": 15,
      "outputs": []
    },
    {
      "cell_type": "markdown",
      "source": [
        "Метод Ньютона:"
      ],
      "metadata": {
        "id": "IHVQpD3vXQRA"
      }
    },
    {
      "cell_type": "code",
      "execution_count": 16,
      "metadata": {
        "id": "s0p-HjOgEzeA"
      },
      "outputs": [],
      "source": [
        "def methodNewton(x, system, jacobian):\n",
        "    while np.linalg.norm(system(x)) > eps:\n",
        "        x = x - np.matmul(np.linalg.inv(jacobian(x)), system(x))\n",
        "    return x"
      ]
    },
    {
      "cell_type": "markdown",
      "source": [
        "Ответ:"
      ],
      "metadata": {
        "id": "zoN3bfG4XZ-3"
      }
    },
    {
      "cell_type": "code",
      "source": [
        "print(\"(x, y) =\", methodNewton(np.array([3.0, 1.0]), S, J))\n",
        "print(\"Невязка: \", eps)"
      ],
      "metadata": {
        "colab": {
          "base_uri": "https://localhost:8080/"
        },
        "id": "lRB-P2iTXbZ6",
        "outputId": "a21756f5-7309-4440-f51f-e81414ad2691"
      },
      "execution_count": 18,
      "outputs": [
        {
          "output_type": "stream",
          "name": "stdout",
          "text": [
            "(x, y) = [3.35591174 1.20690682]\n",
            "Невязка:  1e-09\n"
          ]
        }
      ]
    }
  ]
}