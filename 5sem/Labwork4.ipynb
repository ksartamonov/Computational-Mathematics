{
  "nbformat": 4,
  "nbformat_minor": 0,
  "metadata": {
    "colab": {
      "provenance": [],
      "authorship_tag": "ABX9TyO/i1yTchuVp6SLlDYglGuY"
    },
    "kernelspec": {
      "name": "python3",
      "display_name": "Python 3"
    },
    "language_info": {
      "name": "python"
    }
  },
  "cells": [
    {
      "cell_type": "markdown",
      "source": [
        "**Задание выполнил Артамонов Кирилл, гр. Б01-007.**"
      ],
      "metadata": {
        "id": "a9oy9G4xFfxt"
      }
    },
    {
      "cell_type": "code",
      "source": [
        "import numpy as np\n",
        "import math\n",
        "import matplotlib.pyplot as plt\n",
        "from matplotlib.axis import YAxis\n",
        "\n",
        "eps = 1e-9"
      ],
      "metadata": {
        "id": "pXEc9O0dNeLo"
      },
      "execution_count": 215,
      "outputs": []
    },
    {
      "cell_type": "markdown",
      "source": [
        "# Задча __VI..32(Экстраполяция численного значения населения США)__"
      ],
      "metadata": {
        "id": "NLqtqytgGgwV"
      }
    },
    {
      "cell_type": "markdown",
      "source": [
        "## 1. Задание данных:"
      ],
      "metadata": {
        "id": "QWw4DVqWHkju"
      }
    },
    {
      "cell_type": "code",
      "source": [
        "X = [1910, 1920, 1930, 1940, 1950, 1960, 1970, 1980, 1990, 2000] # Years\n",
        "extrX = 2010\n",
        "# extendedX = X.append(extrX)\n",
        "Y = [92228496, 106021537, 123202624, 132164569, 151325798, 179323175, 203211926, 226545805, 248709873, 281421906] # Population\n",
        "n = len(X)"
      ],
      "metadata": {
        "id": "f_goCd_PHquP"
      },
      "execution_count": 216,
      "outputs": []
    },
    {
      "cell_type": "markdown",
      "source": [
        "## 2. Интерполяция методом Ньютона"
      ],
      "metadata": {
        "id": "pfXR0cKSOF-U"
      }
    },
    {
      "cell_type": "code",
      "source": [
        "from os import X_OK\n",
        "class Interpol:\n",
        "    def __init__(self, x, y):\n",
        "        self.x = x\n",
        "        self.y = y\n",
        "\n",
        "        assert(len(self.x) == len(self.y))\n",
        "        \n",
        "        self.div_difs = np.zeros((len(self.y), len(self.y)))\n",
        "        self.div_difs[:,0] = self.y\n",
        "\n",
        "        for i in range(1,len(self.y)):\n",
        "            for j in range(i,len(self.y)):\n",
        "                self.div_difs[j][i] = (self.div_difs[j][i-1] - self.div_difs[j-1][i-1])\\\n",
        "                                        / (x[j] - x[j-i])\n",
        "\n",
        "    # Newthon's polynom value in x0 point\n",
        "    def calc(self, x0):\n",
        "        ans = []\n",
        "        tmp = 1\n",
        "        ans.append(tmp)\n",
        "        for i in range(len(self.y)-1):\n",
        "            '''\n",
        "            (x-x_0)\n",
        "            (x-x_0)*(x-x_1)\n",
        "            ...\n",
        "            (x-x_0)*...*(x-x_n)\n",
        "            '''\n",
        "            tmp *= x0 - self.x[i]\n",
        "            ans.append(tmp)\n",
        "            \n",
        "        # f_0 + (x-x_0)*f_1 + (x-x_0)(x-x_1)*f_2 + ...\n",
        "        return np.dot(np.array(ans), np.diag(self.div_difs))\n",
        "    \n",
        "    def draw_plot(self):\n",
        "        # plt.figure()\n",
        "        # extrX = 2010\n",
        "        # arrX = self.x\n",
        "        # arrX.append(extrX)\n",
        "        # arrY = self.y\n",
        "        # arrY.append([self.calc(extrX)][0])\n",
        "        plt.figure()\n",
        "        plt.scatter(self.x, self.y)\n",
        "        plt.scatter(extrX, [self.calc(2010)][0])\n",
        "        x = np.linspace(min(self.x), max(self.x) + 11, 100)\n",
        "        # plt.scatter(extrX, [self.calc(2010)][0])\n",
        "        plt.plot(x, [self.calc(i) for i in x], 'b--', label='Polynomial Interpolation')\n",
        "        plt.legend(bbox_to_anchor=(0., 1.02, 1., .102), loc=3, ncol=2, \\\n",
        "               mode=\"expand\", borderaxespad=0.)\n",
        "        plt.show()\n",
        "        print(\"Extrapolated population in 2010: \" , [self.calc(2010)][0])"
      ],
      "metadata": {
        "id": "LjmC-s7dOLYM"
      },
      "execution_count": 217,
      "outputs": []
    },
    {
      "cell_type": "code",
      "source": [
        "polynom = Interpol(X, Y)\n",
        "polynom.draw_plot()"
      ],
      "metadata": {
        "colab": {
          "base_uri": "https://localhost:8080/",
          "height": 305
        },
        "id": "7HvcqlanPbJi",
        "outputId": "2df7a767-c8f7-4040-87d3-1ad9e9b15f4c"
      },
      "execution_count": 218,
      "outputs": [
        {
          "output_type": "display_data",
          "data": {
            "text/plain": [
              "<Figure size 432x288 with 1 Axes>"
            ],
            "image/png": "[encoded data removed]"
          },
          "metadata": {
            "needs_background": "light"
          }
        },
        {
          "output_type": "stream",
          "name": "stdout",
          "text": [
            "Extrapolated population in 2010:  827906509.0000038\n"
          ]
        }
      ]
    },
    {
      "cell_type": "markdown",
      "source": [
        "Отметим достаточно хорошую интерполяцию, однако экстраполированное значение популяции США в 2010 году составило: __827 906 509__, что очень далеко от действительности. Ошибка экстраполяции огромна."
      ],
      "metadata": {
        "id": "4oXhrstWfw04"
      }
    },
    {
      "cell_type": "markdown",
      "source": [
        "## 3. Сплайн-интерполяция"
      ],
      "metadata": {
        "id": "P1jQf5FdhZVf"
      }
    },
    {
      "cell_type": "code",
      "source": [
        "class Spline:\n",
        "    def __init__(self, a = 0, b = 0, c = 0, d = 0, xi = 0):\n",
        "        self.a = a\n",
        "        self.b = b\n",
        "        self.c = c\n",
        "        self.d = d\n",
        "        self.xi = xi\n",
        "\n",
        "    def calc(self, w):\n",
        "      return self.a  + self.b * (w - self.xi) + self.c * (w - self.xi)**2 + self.d * (w - self.xi)**3         "
      ],
      "metadata": {
        "id": "rXu-nCcHhcgJ"
      },
      "execution_count": 219,
      "outputs": []
    },
    {
      "cell_type": "code",
      "source": [
        "class Splines:\n",
        "  def __init__(self, x, f):\n",
        "    self.x = x\n",
        "    self.f = f\n",
        "\n",
        "    # self.N = np.shape(x)[0]\n",
        "    self.N = n\n",
        "\n",
        "    self.splines = [Spline(f[i], 0, 0, 0, x[i]) for i in range(self.N)]\n",
        "\n",
        "  def _calcC(self) -> None:\n",
        "\n",
        "    alpha = np.full(self.N-1, 0.0)\n",
        "    beta = np.full(self.N-1, 0.0)\n",
        "\n",
        "    self.splines[0].c = 0\n",
        "    self.splines[self.N-1].c = 0\n",
        "\n",
        "    for i in range(1, self.N-1):\n",
        "      h_i   = self.x[i] - self.x[i - 1]\n",
        "      h_i_1 = self.x[i + 1] - self.x[i]\n",
        "\n",
        "      A_i = h_i\n",
        "      B_i = 2*(h_i + h_i_1)\n",
        "      C_i = h_i_1\n",
        "      F_i = 3.0 * ((self.f[i + 1] - self.f[i]) / h_i_1 - (self.f[i] - self.f[i - 1]) / h_i)\n",
        "\n",
        "      alpha[i] = -C_i / (A_i * alpha[i - 1] + B_i)\n",
        "      beta[i] = (F_i - A_i * beta[i-1]) / (A_i * alpha[i - 1] + B_i)\n",
        "    \n",
        "    for i in range(self.N - 2, 0, -1):\n",
        "      self.splines[i].c = alpha[i] * self.splines[i + 1].c + beta[i]\n",
        "\n",
        "\n",
        "  def _calcB(self) -> None:\n",
        "    for i in range(self.N - 1, 0, -1):\n",
        "      hi = self.x[i] - self.x[i - 1]\n",
        "\n",
        "      self.splines[i].b =  (self.f[i] - self.f[i - 1]) / hi + hi * (2*self.splines[i].c + self.splines[i - 1].c) / 3 \n",
        "      \n",
        "  def _calcD(self) -> None:\n",
        "    for i in range(self.N - 1, 0, -1):\n",
        "      hi = self.x[i] - self.x[i - 1]\n",
        "\n",
        "      self.splines[i].d = (self.splines[i].c - self.splines[i - 1].c) / (3*hi)\n",
        "\n",
        "  def Spline3D(self, interX):\n",
        "\n",
        "    self._calcC()\n",
        "    self._calcB()\n",
        "    self._calcD()\n",
        "\n",
        "    arrX = np.array([])\n",
        "    arrY = np.array([])\n",
        "\n",
        "    for i in range(1, self.N):\n",
        "\n",
        "      if i == 1:\n",
        "        x_i_dence = np.linspace(min(interX), self.x[i], self.x[i] - min(interX) + 1)\n",
        "      elif i == self.N-1:\n",
        "        x_i_dence = np.linspace(self.x[i-1], max(interX), max(interX) - self.x[i-1] + 1)\n",
        "      else:\n",
        "        x_i_dence = np.linspace(self.x[i-1], self.x[i], 50)\n",
        "\n",
        "      arrX = np.concatenate((arrX, x_i_dence), None)\n",
        "\n",
        "      y_i_dence = np.array([self.splines[i].calc(x) for x in x_i_dence])\n",
        "      arrY = np.concatenate((arrY, y_i_dence), None)\n",
        "\n",
        "    return arrX, arrY\n",
        "\n",
        "  def draw_plot(self):\n",
        "    plt.figure()\n",
        "    plt.scatter(X, Y)\n",
        "    x, y = splines.Spline3D(np.array(range(1900, 2011)))\n",
        "    plt.scatter(extrX, y[list(x).index(extrX)])\n",
        "\n",
        "    plt.plot(x, y, 'b--', label='Spline Interpolation')\n",
        "    plt.legend(bbox_to_anchor=(0., 1.02, 1., .102), loc=3, ncol=2, \\\n",
        "            mode=\"expand\", borderaxespad=0.)\n",
        "    plt.show()\n",
        "    print(\"Extrapolated population in 2010: \" , y[list(x).index(extrX)])\n"
      ],
      "metadata": {
        "id": "PbrjYT_cm4Y9"
      },
      "execution_count": 221,
      "outputs": []
    },
    {
      "cell_type": "markdown",
      "source": [
        "Построение графика:"
      ],
      "metadata": {
        "id": "vlCattUQQNHN"
      }
    },
    {
      "cell_type": "code",
      "source": [
        "splines = Splines(X,Y)\n",
        "splines.draw_plot()"
      ],
      "metadata": {
        "colab": {
          "base_uri": "https://localhost:8080/",
          "height": 305
        },
        "id": "FRB3i0YKqnE3",
        "outputId": "46d414c3-c9d1-41b9-c35d-5b890f5a1235"
      },
      "execution_count": 222,
      "outputs": [
        {
          "output_type": "display_data",
          "data": {
            "text/plain": [
              "<Figure size 432x288 with 1 Axes>"
            ],
            "image/png": "[encoded data removed]"
          },
          "metadata": {
            "needs_background": "light"
          }
        },
        {
          "output_type": "stream",
          "name": "stdout",
          "text": [
            "Extrapolated population in 2010:  314133939.0\n"
          ]
        }
      ]
    },
    {
      "cell_type": "markdown",
      "source": [
        "Интерполяци тоже довольно хороша, экстраполированное значение популяции США в 2010 году составило: __314 133 939__, что достаточно близко к реальному значению. Можно сделать вывод, что сплайн-экстраполяция лучше приближает реальное значение, нежели интерполяция полиномами. "
      ],
      "metadata": {
        "id": "w9R9gRN1yCze"
      }
    }
  ]
}