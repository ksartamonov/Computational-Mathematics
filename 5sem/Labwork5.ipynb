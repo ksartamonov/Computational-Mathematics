{
  "nbformat": 4,
  "nbformat_minor": 0,
  "metadata": {
    "colab": {
      "provenance": [],
      "authorship_tag": "ABX9TyM2dloiqSVVGPzTkesHdcvt"
    },
    "kernelspec": {
      "name": "python3",
      "display_name": "Python 3"
    },
    "language_info": {
      "name": "python"
    }
  },
  "cells": [
    {
      "cell_type": "markdown",
      "source": [
        "**Задание выполнил Артамонов Кирилл, гр. Б01-007**\n",
        "\n",
        "\n",
        "\n"
      ],
      "metadata": {
        "id": "m98JUd03eCc8"
      }
    },
    {
      "cell_type": "markdown",
      "source": [
        "Неоходимо для функции, заданной таблично, вычислить значение определенного интеграла методом трапеций, сделать уточнение результата экстраполяцией Ричардсона. Сравнить уточненный результат с вычислениями по методу Симпсона."
      ],
      "metadata": {
        "id": "n-w74EGotEos"
      }
    },
    {
      "cell_type": "markdown",
      "source": [
        "Необходимые библиотеки"
      ],
      "metadata": {
        "id": "d0DeBRfAfA_w"
      }
    },
    {
      "cell_type": "code",
      "source": [
        "import numpy as np"
      ],
      "metadata": {
        "id": "CPETUF-yeLS8"
      },
      "execution_count": 3,
      "outputs": []
    },
    {
      "cell_type": "markdown",
      "source": [
        "Задание условия (__VII.9.5(б)__)"
      ],
      "metadata": {
        "id": "lj4NuPqgery2"
      }
    },
    {
      "cell_type": "code",
      "source": [
        "x = np.array([0, 0.125, 0.25, 0.375, 0.5, 0.625, 0.75, 0.875, 1])\n",
        "y = np.array([0.000000, 0.021470, 0.293050, 0.494105, 0.541341, 0.516855, 0.468617, 0.416531, 0.367879])"
      ],
      "metadata": {
        "id": "zKcriQcUesbR"
      },
      "execution_count": 4,
      "outputs": []
    },
    {
      "cell_type": "markdown",
      "source": [
        "Шаг интегрирования"
      ],
      "metadata": {
        "id": "stoDPUsMtybe"
      }
    },
    {
      "cell_type": "code",
      "source": [
        "h = 0.125"
      ],
      "metadata": {
        "id": "jooGvg1VufMj"
      },
      "execution_count": 5,
      "outputs": []
    },
    {
      "cell_type": "markdown",
      "source": [
        "Метод трапеций"
      ],
      "metadata": {
        "id": "skoXCXJzuUUu"
      }
    },
    {
      "cell_type": "code",
      "source": [
        "def trapezoidal_method(x, y, h):\n",
        "    I = 0\n",
        "    for i in range(len(x) - 1):\n",
        "        I += h / 2.0 * (y[i + 1] + y[i])\n",
        "    return I\n",
        "\n",
        "I_tr = trapezoidal_method(x, y, h)\n",
        "print(\"Integral using trapezional rule:\" , I_tr)"
      ],
      "metadata": {
        "colab": {
          "base_uri": "https://localhost:8080/"
        },
        "id": "Z60QB3O9tx8p",
        "outputId": "614943ee-5221-4e78-d425-55c9366b6311"
      },
      "execution_count": 6,
      "outputs": [
        {
          "output_type": "stream",
          "name": "stdout",
          "text": [
            "Integral using trapezional rule: 0.3669885625\n"
          ]
        }
      ]
    },
    {
      "cell_type": "markdown",
      "source": [
        "Метод Симпсона:"
      ],
      "metadata": {
        "id": "wJm-ampVfwId"
      }
    },
    {
      "cell_type": "code",
      "source": [
        "def simpson_method(x, y, h):\n",
        "    I = 0\n",
        "    for i in range(int(len(x) / 2)):\n",
        "        I +=  h / 3.0 * (y[2 * i] + 4 * y[2 * i + 1] + y[2 * i + 2])\n",
        "    return I\n",
        "\n",
        "I_smp = simpson_method(x, y, h)\n",
        "print(\"integral using Simpson's method:\", I_smp)"
      ],
      "metadata": {
        "id": "aA-77Daif3vE",
        "colab": {
          "base_uri": "https://localhost:8080/"
        },
        "outputId": "e27823e0-d4c4-4e10-d908-4d8075935a3f"
      },
      "execution_count": 7,
      "outputs": [
        {
          "output_type": "stream",
          "name": "stdout",
          "text": [
            "integral using Simpson's method: 0.36540579166666665\n"
          ]
        }
      ]
    },
    {
      "cell_type": "markdown",
      "source": [
        "Интерполяция Ричардсона"
      ],
      "metadata": {
        "id": "vn7kdwbBgiOp"
      }
    },
    {
      "cell_type": "code",
      "source": [
        "x_1 = np.array([x[i] for i in range(len(x)) if i % 2 == 0])\n",
        "y_1 = np.array([y[i] for i in range(len(y)) if i % 2 == 0])\n",
        "\n",
        "I_1 = trapezoidal_method(x_1, y_1, 2 * h) # h\n",
        "print(\"I(h):\", I_1)\n",
        "\n",
        "I_0 = trapezoidal_method(x, y, h) # h / 2\n",
        "print(\"I(h/2):\", I_0)\n",
        "\n",
        "I = I_0 + (I_0 - I_1) / 3.0\n",
        "\n",
        "print(\"Richardson, I:\", I)"
      ],
      "metadata": {
        "id": "ejwugA_1guoe",
        "colab": {
          "base_uri": "https://localhost:8080/"
        },
        "outputId": "e6e3e0bf-4b2c-459f-c753-eedf1a9443df"
      },
      "execution_count": 9,
      "outputs": [
        {
          "output_type": "stream",
          "name": "stdout",
          "text": [
            "I(h): 0.37173687499999997\n",
            "I(h/2): 0.3669885625\n",
            "Richardson, I: 0.3654057916666667\n"
          ]
        }
      ]
    },
    {
      "cell_type": "markdown",
      "source": [
        "Differentiating functions with step:"
      ],
      "metadata": {
        "id": "TicbLFgYiplb"
      }
    }
  ]
}