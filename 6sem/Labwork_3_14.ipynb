{
  "nbformat": 4,
  "nbformat_minor": 0,
  "metadata": {
    "colab": {
      "provenance": [],
      "authorship_tag": "ABX9TyPXp8W5tg1doCTxO4XValXk"
    },
    "kernelspec": {
      "name": "python3",
      "display_name": "Python 3"
    },
    "language_info": {
      "name": "python"
    }
  },
  "cells": [
    {
      "cell_type": "markdown",
      "source": [
        "**Артамонов Кирилл, Б01-007**"
      ],
      "metadata": {
        "id": "04HBTHIdFa7N"
      }
    },
    {
      "cell_type": "markdown",
      "source": [
        "**Решение задачи 14 варианта №3**\n",
        "\n",
        "Необходимо решить краевую задачу для одномерного уравнения теплопроводности\n",
        "$\\frac{d}{dx} \\big[k(x)\\frac{du}{dx}\\big] - q(x)u = -f(x)$\n",
        "\n",
        "В одиннадцати равноудаленных точках отрезка $[0,1]$ с относительной точностью $0,0001$.\n",
        "\n",
        "**Задание №14:**\n",
        "Краевые условия задачи:\n",
        "$u(0) = 0$, $u(1) = 1$\n",
        "\n",
        "Дополнительные условия в точке разрыва:\n",
        "\n",
        "$u(x_0-0) = u(x_0+0)$\n",
        "$k(x_0-0)u_x(x_0-0) = k(x_0+0)u_x(x_0+0$\n",
        "\n",
        "\n",
        "$x < x_0=0,525; k(x) = x; q(x)=e^{-x}; f(x)=x^3$\n",
        "\n",
        "\n",
        "$x > x_0=0,525; k(x) = x^2 + 1; q(x)=e^{-x}; f(x)=1$\n",
        "\n",
        "Модельная задача: $x_0 = 0,525;$\n",
        "\n",
        "$k(x) = k(x_0)$\n",
        "\n",
        "\n",
        "$q(x) = q(x_0)$\n",
        "\n",
        "$f(x) = f(x_0)$"
      ],
      "metadata": {
        "id": "zzApDVvKFlUI"
      }
    },
    {
      "cell_type": "code",
      "source": [
        "import numpy as np\n",
        "from matplotlib import pyplot as plt"
      ],
      "metadata": {
        "id": "ZQQ_MeGtL3Zq"
      },
      "execution_count": null,
      "outputs": []
    },
    {
      "cell_type": "markdown",
      "source": [
        "Зададим нашу задачу"
      ],
      "metadata": {
        "id": "7TbKFiIwIRBG"
      }
    },
    {
      "cell_type": "code",
      "execution_count": null,
      "metadata": {
        "id": "BKPAsudOFPr9"
      },
      "outputs": [],
      "source": [
        "eps = 1e-6\n",
        "x_0 = 0.525\n",
        "\n",
        "def k(x):\n",
        "    if x < x_0:\n",
        "        return x\n",
        "    else:\n",
        "        return x * x + 1\n",
        "\n",
        "\n",
        "def q(x):\n",
        "    return np.exp(-x)\n",
        "\n",
        "\n",
        "def f(x):\n",
        "    if x < x_0:\n",
        "        return x * x * x\n",
        "    else:\n",
        "        return 1"
      ]
    },
    {
      "cell_type": "markdown",
      "source": [
        "Будем применять метод встречных прогонок:"
      ],
      "metadata": {
        "id": "2zXKvVkNJxwz"
      }
    },
    {
      "cell_type": "code",
      "source": [
        "h = 1e-6\n",
        "def twoSideRun(u_0, u_1):\n",
        "    L = int(1 / h)\n",
        "\n",
        "    \n",
        "    l_a = int(np.floor(x_0 / h))\n",
        "    l_b = l_a + 1\n",
        "\n",
        "    x = np.zeros(L + 1)\n",
        "    for l in range(0, L + 1):\n",
        "        x[l] = l * h\n",
        "\n",
        "\n",
        "    u = np.zeros(L + 1)\n",
        "    # filling border conditions\n",
        "    u[0] = u_0\n",
        "    u[L] = u_1\n",
        "\n",
        "    # coeffs\n",
        "    a = np.zeros(L + 1)\n",
        "    b = np.zeros(L + 1)\n",
        "    c = np.zeros(L + 1)\n",
        "    d = np.zeros(L + 1)\n",
        "    alpha = np.zeros(L + 1)\n",
        "    beta  = np.zeros(L + 1)\n",
        "\n",
        "    for l in range(1, l_a):\n",
        "        a[l] = k((l + 0.5) * h)\n",
        "        b[l] = -( k((l + 0.5) * h) + k((l - 0.5) * h) + q(l * h) * h * h )\n",
        "        c[l] = k((l - 0.5) * h)\n",
        "        d[l] = -f(l * h) * h * h\n",
        "\n",
        "    for l in range(l_b + 1, L):\n",
        "        a[l] = k((l + 0.5) * h)\n",
        "        b[l] = -( k((l + 0.5) * h) + k((l - 0.5) * h) + q(l * h) * h * h )\n",
        "        c[l] = k((l - 0.5) * h)\n",
        "        d[l] = -f(l * h) * h * h\n",
        "\n",
        "    alpha[1] = -a[1] / b[1]\n",
        "    beta[1]  = (d[1] - c[1] * u_0) / b[1]\n",
        "\n",
        "    alpha[L - 1] = -c[L - 1] / b[L - 1]\n",
        "    beta[L - 1]  = (d[L - 1] - c[L - 1] * u_1) / b[L - 1]\n",
        "\n",
        "    for l in range(2, l_a):\n",
        "        alpha[l] = -a[l] / (b[l] + c[l] * alpha[l - 1])\n",
        "        beta[l]  = (d[l] - c[l] * beta[l - 1]) / (b[l] + c[l] * alpha[l - 1])\n",
        "\n",
        "    for l in range(L - 2, l_b, -1):\n",
        "        alpha[l] = -c[l] / (b[l] + a[l] * alpha[l + 1])\n",
        "        beta[l]  = (d[l] - a[l] * beta[l + 1]) / (b[l] + a[l] * alpha[l + 1])\n",
        "\n",
        "\n",
        "    u[l_a] = (k(l_a * h) * beta[l_a - 1] + k(l_b * h) * beta[l_b + 1]) / (k(l_a * h) * (1 - alpha[l_a - 1]) + k(l_b * h) * (1 - alpha[l_b + 1]))\n",
        "    u[l_b] = u[l_a].copy()\n",
        "\n",
        "    u[l_a - 1] = alpha[l_a - 1] * u[l_a] + beta[l_a - 1]\n",
        "    u[l_b + 1] = alpha[l_b + 1] * u[l_b] + beta[l_b + 1]\n",
        "\n",
        "\n",
        "    for l in range(l_a - 1, 0, -1):\n",
        "        u[l] = alpha[l] * u[l + 1] + beta[l]\n",
        "\n",
        "    for l in range(l_b + 1, L):\n",
        "        u[l] = alpha[l] * u[l - 1] + beta[l]\n",
        "\n",
        "\n",
        "    return x, u"
      ],
      "metadata": {
        "id": "UiyXGtRtJ0iH"
      },
      "execution_count": null,
      "outputs": []
    },
    {
      "cell_type": "code",
      "source": [
        "    x, u = twoSideRun(0, 1)"
      ],
      "metadata": {
        "id": "jPoYu8uVKNif"
      },
      "execution_count": null,
      "outputs": []
    },
    {
      "cell_type": "markdown",
      "source": [
        "Plot the results:"
      ],
      "metadata": {
        "id": "OGxXe1JDK3sJ"
      }
    },
    {
      "cell_type": "code",
      "source": [
        "plt.plot(x, u)\n",
        "plt.grid(which='major', color='black', linestyle='-')\n",
        "\n",
        "plt.xlabel(r'$x$')\n",
        "plt.ylabel(r'$u$')\n",
        "\n",
        "plt.xticks()\n",
        "plt.yticks()\n",
        "\n",
        "plt.show()"
      ],
      "metadata": {
        "colab": {
          "base_uri": "https://localhost:8080/",
          "height": 449
        },
        "id": "Yg2Hypu5K3Kd",
        "outputId": "6326cb17-2657-4d1c-ef43-04f7aa46956c"
      },
      "execution_count": null,
      "outputs": [
        {
          "output_type": "display_data",
          "data": {
            "text/plain": [
              "<Figure size 640x480 with 1 Axes>"
            ],
            "image/png": "[encoded data removed]"
          },
          "metadata": {}
        }
      ]
    }
  ]
}