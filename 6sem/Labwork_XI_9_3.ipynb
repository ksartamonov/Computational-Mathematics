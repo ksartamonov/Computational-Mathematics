{
  "nbformat": 4,
  "nbformat_minor": 0,
  "metadata": {
    "colab": {
      "provenance": [],
      "authorship_tag": "ABX9TyMHFhmpSDSJCpzUKtR+x8a0"
    },
    "kernelspec": {
      "name": "python3",
      "display_name": "Python 3"
    },
    "language_info": {
      "name": "python"
    }
  },
  "cells": [
    {
      "cell_type": "markdown",
      "source": [
        "**Артамонов Кирилл, Б01-007**"
      ],
      "metadata": {
        "id": "Nh3X_-E7KtoD"
      }
    },
    {
      "cell_type": "markdown",
      "source": [
        "Решение задачи XI.9.3(б):\n",
        "\n",
        "$y'' - x\\sqrt{y} = 0$ ,\n",
        "$0 \\leq x \\leq 1$\n",
        "\n",
        "$y(0) = 0$\n",
        "$\\int_0^1 y(x)dx = 1$"
      ],
      "metadata": {
        "id": "1fbKgX0QLrAm"
      }
    },
    {
      "cell_type": "markdown",
      "source": [
        "Параметром $\\alpha$ будет выступать $\\alpha = y'(0)$."
      ],
      "metadata": {
        "id": "D8cGj02uNKgl"
      }
    },
    {
      "cell_type": "markdown",
      "source": [
        "Импорт библиотек:"
      ],
      "metadata": {
        "id": "BiUu6VRFMo30"
      }
    },
    {
      "cell_type": "code",
      "source": [
        "import numpy as np\n",
        "from matplotlib import pyplot as plt"
      ],
      "metadata": {
        "id": "DbWu5M0ZMrS3"
      },
      "execution_count": null,
      "outputs": []
    },
    {
      "cell_type": "code",
      "execution_count": null,
      "metadata": {
        "id": "usQv0a-ilVce"
      },
      "outputs": [],
      "source": [
        "h = 1e-4\n",
        "\n",
        "def rk4(x_n, y_n, h, f): \n",
        "    f_1 = f(x_n, y_n)\n",
        "    f_2 = f(x_n + h / 2, y_n + f_1 * h / 2)\n",
        "    f_3 = f(x_n + h / 2, y_n + f_2 * h / 2)\n",
        "    f_4 = f(x_n + h, y_n + f_3 * h)\n",
        "\n",
        "    y_n1 = y_n + h / 6 * (f_1 + 2 * f_2 + 2 * f_3 + f_4)\n",
        "\n",
        "    return y_n1\n",
        "\n",
        "def get_Y_derivY(x, phaseVec):\n",
        "    y = phaseVec[0][0]\n",
        "    u = phaseVec[1][0]\n",
        "\n",
        "    return np.array([[u], [x * np.sqrt(y)]])\n",
        "\n",
        "def get_A_B(x, phaseVec):\n",
        "    A = phaseVec[0][0]\n",
        "    B = phaseVec[1][0]\n",
        "    y = phaseVec[2][0]\n",
        "\n",
        "    return np.array([[B], [x / 2 / np.sqrt(y) * A], [0]])\n",
        "\n",
        "def iterateAlpha(alpha):\n",
        "    F_a = -1\n",
        "    F_a_prime = 0\n",
        "\n",
        "    vec_Y_derivY = np.array([[0], [alpha]])\n",
        "    vec_A_B_Y = np.array([[0], [1], [0.0001]])\n",
        "\n",
        "    x_list   = [0]\n",
        "    list_Y_derivY  = [vec_Y_derivY]\n",
        "    list_A_B_Y = [vec_A_B_Y]\n",
        "\n",
        "    for i in range(1, int(1/h)):\n",
        "        x_list.append(i * h)\n",
        "\n",
        "        next_vec_Y_derivY = rk4(x_list[i - 1], list_Y_derivY[i - 1], h, get_Y_derivY)\n",
        "        list_Y_derivY.append(next_vec_Y_derivY)\n",
        "\n",
        "        next_A_B_Y = rk4(x_list[i - 1], list_A_B_Y[i - 1], h, get_A_B)\n",
        "        list_A_B_Y.append(next_A_B_Y)\n",
        "        list_A_B_Y[i][2][0] = next_vec_Y_derivY[0][0].copy()\n",
        "\n",
        "        F_a += next_vec_Y_derivY[0][0] * h\n",
        "        F_a_prime += next_A_B_Y[0][0] * h\n",
        "\n",
        "    return x_list, list_Y_derivY, F_a, F_a_prime\n",
        "\n",
        "\n",
        "def shoot(init_alpha, epsilon):\n",
        "    prev_alpha = init_alpha\n",
        "    new_alpha = init_alpha\n",
        "    F_a = -1\n",
        "\n",
        "    while np.abs(F_a) > epsilon:\n",
        "        x_list, list_Y_derivY, F_a, F_a_prime = iterateAlpha(new_alpha)\n",
        "\n",
        "        new_alpha = prev_alpha - F_a / F_a_prime\n",
        "        prev_alpha = new_alpha.copy()\n",
        "\n",
        "    print(f' alpha = {new_alpha}')\n",
        "\n",
        "    return x_list, list_Y_derivY, F_a"
      ]
    },
    {
      "cell_type": "code",
      "source": [
        "x_list, list_Y_derivY, integral = shoot(2.0, 1e-6)\n",
        "y_list = [list_Y_derivY[i][0][0] for i in range(0, len(list_Y_derivY))]\n",
        "\n",
        "fig, ax = plt.subplots()\n",
        "plt.plot(x_list, y_list)\n",
        "plt.xlabel('$x$')\n",
        "plt.ylabel('$y$')\n",
        "plt.grid(True)\n",
        "plt.show()\n"
      ],
      "metadata": {
        "colab": {
          "base_uri": "https://localhost:8080/",
          "height": 466
        },
        "id": "AFSLGekGNePG",
        "outputId": "2972b028-3e15-4415-c454-b35d658c6bc3"
      },
      "execution_count": null,
      "outputs": [
        {
          "output_type": "stream",
          "name": "stdout",
          "text": [
            " alpha = 1.9291176846202034\n"
          ]
        },
        {
          "output_type": "display_data",
          "data": {
            "text/plain": [
              "<Figure size 640x480 with 1 Axes>"
            ],
            "image/png": "[encoded data removed]"
          },
          "metadata": {}
        }
      ]
    }
  ]
}